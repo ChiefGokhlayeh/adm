{
 "cells": [
  {
   "cell_type": "markdown",
   "metadata": {},
   "source": [
    "Exercise Basics Data Mining\n",
    "===========================\n",
    "\n"
   ]
  },
  {
   "cell_type": "markdown",
   "metadata": {},
   "source": [
    "## Exercise 1: Statistical description of data\n",
    "\n"
   ]
  },
  {
   "cell_type": "markdown",
   "metadata": {},
   "source": [
    "Let there be a small data set with one feature: {8, 2, 4, 5, 1, 2, 6}\n",
    "\n",
    "1.  Calculate the following statistical features by hand!\n",
    "    (Please do NOT use Python or any calculator):\n",
    "    -   mean value\n",
    "    -   median\n",
    "    -   quantile $Q_{0.25}$\n",
    "    -   quantile $Q_{0.75}$\n",
    "\n",
    "2.  Now use Python to calculate the statistical features.\n",
    "    Do you get the same values?\n",
    "\n",
    "3.  Manually draw (by hand!) a histogram with bins of width 2 (bins: (0,2] , (2,4] ,&#x2026;)\n",
    "\n",
    "4.  Now use Python to plot the histogram. Do you get the same result?\n",
    "\n"
   ]
  },
  {
   "cell_type": "markdown",
   "metadata": {},
   "source": [
    "## Exercise 2: Project understanding and Data understanding\n",
    "\n"
   ]
  },
  {
   "cell_type": "markdown",
   "metadata": {},
   "source": [
    "First download the wine dataset from Moodle (wine.csv).\n",
    "You can read a CSV with pandas using `pandas.from_csv`. Importing pandas is achieved\n",
    "with\n",
    "\n"
   ]
  },
  {
   "cell_type": "code",
   "execution_count": null,
   "metadata": {},
   "outputs": [],
   "source": [
    "import pandas as pd\n",
    "\n",
    "# df = pd.read_csv(...)"
   ]
  },
  {
   "cell_type": "markdown",
   "metadata": {},
   "source": [
    "Using `pd` as alias is a convention.\n",
    "\n"
   ]
  },
  {
   "cell_type": "markdown",
   "metadata": {},
   "source": [
    "### Project and data understanding\n",
    "\n"
   ]
  },
  {
   "cell_type": "markdown",
   "metadata": {},
   "source": [
    "**Project Goal**: Using chemical analysis to determine the origin of wines using the „wine“ data set.\n",
    "\n",
    "Your data to solve the task:\n",
    "\n",
    "-   3 different types of Italian wine\n",
    "    -   number of instances:  180\n",
    "    -   number of features: 13\n",
    "    -   number of classes: 3\n",
    "\n",
    "-   features:\n",
    "    -   Alcohol\n",
    "    -   Malic acid\n",
    "    -   Ash\n",
    "    -   Alcalinity of ash\n",
    "    -   Magnesium\n",
    "    -   Total phenols\n",
    "    -   Flavanoids\n",
    "    -   Nonflavanoid phenols\n",
    "    -   Proanthocyanins\n",
    "    -   Color intensity\n",
    "    -   Hue\n",
    "    -   OD280/OD315 of diluted wines\n",
    "    -   Proline\n",
    "\n",
    "-   one column „class“: with the types of wine ${1, 2, 3}$\n",
    "\n",
    "Read the csv-file with the wine data set in a Pandas data frame.\n",
    "\n",
    "1.  Check if all data objects and features are available, compare the number of lines\n",
    "    with the description above.\n",
    "2.  Check the types of your attributes (there is one column where it does not make sense),\n",
    "3.  also check for duplicates and missing values.\n",
    "\n",
    "If you find duplicates or missing values remove the corresponding objects.\n",
    "\n",
    "**Hints**:\n",
    "\n",
    "-   There is one column with a non-sense value in it.\n",
    "-   If a file is read, the types of each column are determined automatically (if possible).\n",
    "    It might happen that there are different types in one column.\n",
    "    As the documentation tells us: **Columns with mixed types are stored with the object dtype**.\n",
    "-   Duplicates can be removed with the method `DataFrame.duplicated()`.\n",
    "-   Missing values can be found with `DataFrame.isnull()`.\n",
    "-   Missing values can dropped with `DataFrame.dropna()`.\n",
    "\n"
   ]
  },
  {
   "cell_type": "markdown",
   "metadata": {},
   "source": [
    "### Data understanding and preparation, visualization\n",
    "\n"
   ]
  },
  {
   "cell_type": "markdown",
   "metadata": {},
   "source": [
    "There are outliers in the data set (hint: 4 obvious outliers in one column, which you will find without having any background in chemistry).\n",
    "\n",
    "-   Find the outliers and remove the entire instances (the entire rows).\n",
    "    You can use Python commands and visualization (e.g. histograms or box plots). Which outliers did you find?\n",
    "\n",
    "**Hints**:\n",
    "\n",
    "-   The function `DataFrame.describe()` is useful, check out the argument `percentiles`.\n",
    "-   Make a boxplot of the suspicious column with the member function (`.plot.box()`).\n",
    "\n"
   ]
  },
  {
   "cell_type": "markdown",
   "metadata": {},
   "source": [
    "## Exercise 3: Use simple grouping to understand and classify data\n",
    "\n"
   ]
  },
  {
   "cell_type": "markdown",
   "metadata": {},
   "source": [
    "There are many features for each class. A useful  feature to classify wine\n",
    "is such that it behaves differently for different classes.\n",
    "First, let us check the mean of each class. Using the pandas\n",
    "`groupby` function (member function of a DataFrame), you can\n",
    "compute aggregate functions of groups. Use this to compute the\n",
    "mean of each feature for each group.\n",
    "If you found an interesting column, the following command\n",
    "vizualizes the distribution for the different classes.\n",
    "\n"
   ]
  },
  {
   "cell_type": "code",
   "execution_count": null,
   "metadata": {},
   "outputs": [],
   "source": [
    "import seaborn as sns\n",
    "\n",
    "# sns.displot(data=df, x=column, hue='class', kind='kde')"
   ]
  }
 ],
 "metadata": {
  "kernelspec": {
   "display_name": "Python 3",
   "language": "python",
   "name": "python3"
  },
  "language_info": {
   "codemirror_mode": {
    "name": "ipython",
    "version": 3
   },
   "file_extension": ".py",
   "mimetype": "text/x-python",
   "name": "python",
   "nbconvert_exporter": "python",
   "pygments_lexer": "ipython3",
   "version": "3.5.2"
  },
  "org": null
 },
 "nbformat": 4,
 "nbformat_minor": 0
}
